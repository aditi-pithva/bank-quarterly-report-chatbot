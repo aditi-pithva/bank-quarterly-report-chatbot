{
 "cells": [
  {
   "cell_type": "code",
   "execution_count": 14,
   "id": "ef52cf9d-ba7b-4346-b1c3-183c4af1da25",
   "metadata": {},
   "outputs": [
    {
     "name": "stdout",
     "output_type": "stream",
     "text": [
      "Collecting selenium\n",
      "  Downloading selenium-4.25.0-py3-none-any.whl.metadata (7.1 kB)\n",
      "Requirement already satisfied: urllib3<3,>=1.26 in c:\\users\\mis\\anaconda3\\lib\\site-packages (from urllib3[socks]<3,>=1.26->selenium) (2.0.7)\n",
      "Collecting trio~=0.17 (from selenium)\n",
      "  Downloading trio-0.26.2-py3-none-any.whl.metadata (8.6 kB)\n",
      "Collecting trio-websocket~=0.9 (from selenium)\n",
      "  Downloading trio_websocket-0.11.1-py3-none-any.whl.metadata (4.7 kB)\n",
      "Requirement already satisfied: certifi>=2021.10.8 in c:\\users\\mis\\anaconda3\\lib\\site-packages (from selenium) (2024.7.4)\n",
      "Requirement already satisfied: typing_extensions~=4.9 in c:\\users\\mis\\anaconda3\\lib\\site-packages (from selenium) (4.9.0)\n",
      "Collecting websocket-client~=1.8 (from selenium)\n",
      "  Using cached websocket_client-1.8.0-py3-none-any.whl.metadata (8.0 kB)\n",
      "Collecting attrs>=23.2.0 (from trio~=0.17->selenium)\n",
      "  Using cached attrs-24.2.0-py3-none-any.whl.metadata (11 kB)\n",
      "Requirement already satisfied: sortedcontainers in c:\\users\\mis\\anaconda3\\lib\\site-packages (from trio~=0.17->selenium) (2.4.0)\n",
      "Requirement already satisfied: idna in c:\\users\\mis\\anaconda3\\lib\\site-packages (from trio~=0.17->selenium) (3.4)\n",
      "Collecting outcome (from trio~=0.17->selenium)\n",
      "  Downloading outcome-1.3.0.post0-py2.py3-none-any.whl.metadata (2.6 kB)\n",
      "Requirement already satisfied: sniffio>=1.3.0 in c:\\users\\mis\\anaconda3\\lib\\site-packages (from trio~=0.17->selenium) (1.3.0)\n",
      "Requirement already satisfied: cffi>=1.14 in c:\\users\\mis\\anaconda3\\lib\\site-packages (from trio~=0.17->selenium) (1.16.0)\n",
      "Collecting wsproto>=0.14 (from trio-websocket~=0.9->selenium)\n",
      "  Downloading wsproto-1.2.0-py3-none-any.whl.metadata (5.6 kB)\n",
      "Requirement already satisfied: pysocks!=1.5.7,<2.0,>=1.5.6 in c:\\users\\mis\\anaconda3\\lib\\site-packages (from urllib3[socks]<3,>=1.26->selenium) (1.7.1)\n",
      "Requirement already satisfied: pycparser in c:\\users\\mis\\anaconda3\\lib\\site-packages (from cffi>=1.14->trio~=0.17->selenium) (2.21)\n",
      "Collecting h11<1,>=0.9.0 (from wsproto>=0.14->trio-websocket~=0.9->selenium)\n",
      "  Using cached h11-0.14.0-py3-none-any.whl.metadata (8.2 kB)\n",
      "Downloading selenium-4.25.0-py3-none-any.whl (9.7 MB)\n",
      "   ---------------------------------------- 0.0/9.7 MB ? eta -:--:--\n",
      "   -------------------- ------------------- 5.0/9.7 MB 33.7 MB/s eta 0:00:01\n",
      "   ---------------------------------------- 9.7/9.7 MB 28.8 MB/s eta 0:00:00\n",
      "Downloading trio-0.26.2-py3-none-any.whl (475 kB)\n",
      "Downloading trio_websocket-0.11.1-py3-none-any.whl (17 kB)\n",
      "Using cached websocket_client-1.8.0-py3-none-any.whl (58 kB)\n",
      "Using cached attrs-24.2.0-py3-none-any.whl (63 kB)\n",
      "Downloading wsproto-1.2.0-py3-none-any.whl (24 kB)\n",
      "Downloading outcome-1.3.0.post0-py2.py3-none-any.whl (10 kB)\n",
      "Using cached h11-0.14.0-py3-none-any.whl (58 kB)\n",
      "Installing collected packages: websocket-client, h11, attrs, wsproto, outcome, trio, trio-websocket, selenium\n",
      "  Attempting uninstall: websocket-client\n",
      "    Found existing installation: websocket-client 0.58.0\n",
      "    Uninstalling websocket-client-0.58.0:\n",
      "      Successfully uninstalled websocket-client-0.58.0\n",
      "  Attempting uninstall: attrs\n",
      "    Found existing installation: attrs 23.1.0\n",
      "    Uninstalling attrs-23.1.0:\n",
      "      Successfully uninstalled attrs-23.1.0\n",
      "Successfully installed attrs-24.2.0 h11-0.14.0 outcome-1.3.0.post0 selenium-4.25.0 trio-0.26.2 trio-websocket-0.11.1 websocket-client-1.8.0 wsproto-1.2.0\n",
      "Note: you may need to restart the kernel to use updated packages.\n"
     ]
    }
   ],
   "source": [
    "pip install selenium"
   ]
  },
  {
   "cell_type": "code",
   "execution_count": 26,
   "id": "cd1811cb-e575-492e-9fdd-2ecb2c9619b1",
   "metadata": {},
   "outputs": [
    {
     "name": "stdout",
     "output_type": "stream",
     "text": [
      "Collecting webdriver_manager\n",
      "  Downloading webdriver_manager-4.0.2-py2.py3-none-any.whl.metadata (12 kB)\n",
      "Requirement already satisfied: requests in c:\\users\\mis\\anaconda3\\lib\\site-packages (from webdriver_manager) (2.32.3)\n",
      "Requirement already satisfied: python-dotenv in c:\\users\\mis\\anaconda3\\lib\\site-packages (from webdriver_manager) (0.21.0)\n",
      "Requirement already satisfied: packaging in c:\\users\\mis\\anaconda3\\lib\\site-packages (from webdriver_manager) (23.1)\n",
      "Requirement already satisfied: charset-normalizer<4,>=2 in c:\\users\\mis\\anaconda3\\lib\\site-packages (from requests->webdriver_manager) (2.0.4)\n",
      "Requirement already satisfied: idna<4,>=2.5 in c:\\users\\mis\\anaconda3\\lib\\site-packages (from requests->webdriver_manager) (3.4)\n",
      "Requirement already satisfied: urllib3<3,>=1.21.1 in c:\\users\\mis\\anaconda3\\lib\\site-packages (from requests->webdriver_manager) (2.0.7)\n",
      "Requirement already satisfied: certifi>=2017.4.17 in c:\\users\\mis\\anaconda3\\lib\\site-packages (from requests->webdriver_manager) (2024.7.4)\n",
      "Downloading webdriver_manager-4.0.2-py2.py3-none-any.whl (27 kB)\n",
      "Installing collected packages: webdriver_manager\n",
      "Successfully installed webdriver_manager-4.0.2\n",
      "Note: you may need to restart the kernel to use updated packages.\n"
     ]
    }
   ],
   "source": [
    "pip install webdriver_manager"
   ]
  },
  {
   "cell_type": "code",
   "execution_count": 58,
   "id": "d256dceb-e139-4a15-8e7f-c731fc7046db",
   "metadata": {},
   "outputs": [],
   "source": [
    "from selenium import webdriver\n",
    "from selenium.webdriver.chrome.service import Service as ChromeService\n",
    "from webdriver_manager.chrome import ChromeDriverManager\n",
    "from selenium.webdriver.chrome.options import Options\n",
    "from selenium.webdriver.support.ui import WebDriverWait\n",
    "from selenium.webdriver.support import expected_conditions as EC\n",
    "from selenium.common.exceptions import ElementClickInterceptedException, TimeoutException, NoSuchElementException\n",
    "import time\n",
    "from selenium.webdriver.common.by import By"
   ]
  },
  {
   "cell_type": "code",
   "execution_count": null,
   "id": "4f90ba57-5504-4782-ba34-7a7127584729",
   "metadata": {},
   "outputs": [],
   "source": [
    "def define_options(default_directory_path):   \n",
    "    # Set Chrome options to download PDFs automatically instead of opening them\n",
    "    options = Options()\n",
    "    options.add_experimental_option('prefs', {\n",
    "        'download.default_directory': default_directory_path,  # Path to save the files\n",
    "        'download.prompt_for_download': False,  # Automatically download without asking\n",
    "        'download.directory_upgrade': True,  # Automatically replace if file exists\n",
    "        'plugins.always_open_pdf_externally': True,  # Disable PDF viewer\n",
    "    })\n",
    "    return options\n",
    "\n",
    "def define_webdriver():\n",
    "    # Set up the Selenium WebDriver with ChromeDriverManager\n",
    "    driver = webdriver.Chrome(service=ChromeService(ChromeDriverManager().install()), options=define_options(DEFAULT_DIRECTORY_PATH))\n",
    "    \n",
    "    # Open the quarterly reports page\n",
    "    driver.get(url)\n",
    "    \n",
    "    driver.maximize_window()  # Maximize the window\n",
    "    driver.implicitly_wait(10)  # Wait for page load\n",
    "    return driver\n",
    "\n",
    "def close_cookie_div(driver):\n",
    "    try:\n",
    "        cookie_div = driver.find_element(By.XPATH, \"//div[@id='onetrust-banner-sdk']\")\n",
    "        if cookie_div:\n",
    "            driver.find_element(By.XPATH, \"//div[@id='onetrust-close-btn-container']/button\").click()\n",
    "    except NoSuchElementException:\n",
    "        print(\"No cookie banner found or already closed.\")\n",
    "\n",
    "def find_and_download_shareholder_report(driver):\n",
    "    try:\n",
    "        # Find the link that contains 'Report to shareholders'\n",
    "        pdf_links = driver.find_elements(By.XPATH, \"//a[contains(text(),'Report to shareholders')]\")\n",
    "\n",
    "        for link in pdf_links:\n",
    "            try:\n",
    "                # Scroll into view to make sure the element is visible\n",
    "                driver.execute_script(\"arguments[0].scrollIntoView();\", link)\n",
    "\n",
    "                # Explicitly wait for the element to be present and visible\n",
    "                WebDriverWait(driver, 25).until(EC.visibility_of(link))\n",
    "\n",
    "                # Attempt to click using JavaScript to bypass potential blockers\n",
    "                driver.execute_script(\"arguments[0].click();\", link)\n",
    "                time.sleep(3)  # Wait for a few seconds to ensure the download starts\n",
    "\n",
    "            except ElementClickInterceptedException:\n",
    "                print(\"ElementClickInterceptedException: Trying to click using JavaScript.\")\n",
    "                # If intercepted, click using JavaScript to bypass obstruction\n",
    "                driver.execute_script(\"arguments[0].click();\", link)\n",
    "                time.sleep(3)  # Wait for a few seconds to ensure the download starts\n",
    "    except TimeoutException:\n",
    "        print(\"TimeoutException: Element not found or clickable within the time limit.\")\n",
    "        driver.quit()\n",
    "    except NoSuchElementException:\n",
    "        print(\"NoSuchElementException: No 'Report to shareholders' link found.\")\n",
    "\n",
    "DEFAULT_DIRECTORY_PATH = 'C:\\\\Users\\\\MIS\\\\Lambton\\\\NLP\\\\Assignment-1'\n",
    "\n",
    "# URL of the page to scrape\n",
    "url = 'https://www.cibc.com/en/about-cibc/investor-relations/quarterly-results.html'\n",
    "\n",
    "driver = define_webdriver()\n",
    "close_cookie_div(driver)\n",
    "find_and_download_shareholder_report(driver)\n",
    "\n",
    "# Close the driver after downloading\n",
    "driver.quit()\n"
   ]
  },
  {
   "cell_type": "code",
   "execution_count": 50,
   "id": "5aa81310-ea82-4141-ba0f-085d52bb1f86",
   "metadata": {},
   "outputs": [],
   "source": [
    "driver.quit()"
   ]
  },
  {
   "cell_type": "code",
   "execution_count": null,
   "id": "8731f823-0dd2-41bc-ab44-55989782c61a",
   "metadata": {},
   "outputs": [],
   "source": []
  }
 ],
 "metadata": {
  "kernelspec": {
   "display_name": "Python 3 (ipykernel)",
   "language": "python",
   "name": "python3"
  },
  "language_info": {
   "codemirror_mode": {
    "name": "ipython",
    "version": 3
   },
   "file_extension": ".py",
   "mimetype": "text/x-python",
   "name": "python",
   "nbconvert_exporter": "python",
   "pygments_lexer": "ipython3",
   "version": "3.11.7"
  }
 },
 "nbformat": 4,
 "nbformat_minor": 5
}
